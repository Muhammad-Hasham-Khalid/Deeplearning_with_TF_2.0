{
 "cells": [
  {
   "cell_type": "code",
   "execution_count": null,
   "metadata": {
    "colab": {
     "base_uri": "https://localhost:8080/",
     "height": 1000
    },
    "colab_type": "code",
    "executionInfo": {
     "elapsed": 57032,
     "status": "ok",
     "timestamp": 1580752098463,
     "user": {
      "displayName": "Muhammad Hasham",
      "photoUrl": "https://lh3.googleusercontent.com/a-/AAuE7mAFOL-cJQzLxYE5P6-JuWDYqbXQFJ0NzEoSRbg3=s64",
      "userId": "07176052611736937058"
     },
     "user_tz": -300
    },
    "id": "neebUjjVvlqC",
    "outputId": "eb0694b0-61d3-47d3-ba6d-1482ea05b556"
   },
   "outputs": [],
   "source": [
    "import tensorflow as tf\n",
    "import numpy as np\n",
    "if tf.__version__ < '2.0.0':\n",
    "  !pip install --upgrade tensorflow_gpu==2.0\n",
    "print(tf.__version__)"
   ]
  },
  {
   "cell_type": "markdown",
   "metadata": {
    "colab_type": "text",
    "id": "gEorJdY-wPi5"
   },
   "source": [
    "**MNIST Hand writing digit**\n",
    "\n",
    "Loading the mnist dataset in Keras"
   ]
  },
  {
   "cell_type": "code",
   "execution_count": 0,
   "metadata": {
    "colab": {},
    "colab_type": "code",
    "id": "6muruu89nuay"
   },
   "outputs": [],
   "source": [
    "from tensorflow.keras.datasets import mnist"
   ]
  },
  {
   "cell_type": "code",
   "execution_count": 3,
   "metadata": {
    "colab": {
     "base_uri": "https://localhost:8080/",
     "height": 51
    },
    "colab_type": "code",
    "executionInfo": {
     "elapsed": 3578,
     "status": "ok",
     "timestamp": 1580747625374,
     "user": {
      "displayName": "Muhammad Hasham",
      "photoUrl": "https://lh3.googleusercontent.com/a-/AAuE7mAFOL-cJQzLxYE5P6-JuWDYqbXQFJ0NzEoSRbg3=s64",
      "userId": "07176052611736937058"
     },
     "user_tz": -300
    },
    "id": "Y4Gi8vWhnxXl",
    "outputId": "7c174f48-440e-40f6-ccc0-0836c5520378"
   },
   "outputs": [
    {
     "name": "stdout",
     "output_type": "stream",
     "text": [
      "Downloading data from https://storage.googleapis.com/tensorflow/tf-keras-datasets/mnist.npz\n",
      "11493376/11490434 [==============================] - 0s 0us/step\n"
     ]
    }
   ],
   "source": [
    "# Download the data from the internet\n",
    "(train_images, train_labels), (test_images, test_labels) = mnist.load_data()"
   ]
  },
  {
   "cell_type": "code",
   "execution_count": 4,
   "metadata": {
    "colab": {
     "base_uri": "https://localhost:8080/",
     "height": 34
    },
    "colab_type": "code",
    "executionInfo": {
     "elapsed": 3571,
     "status": "ok",
     "timestamp": 1580747625375,
     "user": {
      "displayName": "Muhammad Hasham",
      "photoUrl": "https://lh3.googleusercontent.com/a-/AAuE7mAFOL-cJQzLxYE5P6-JuWDYqbXQFJ0NzEoSRbg3=s64",
      "userId": "07176052611736937058"
     },
     "user_tz": -300
    },
    "id": "vbrPqIKsyJk0",
    "outputId": "a640917b-7aa5-43c5-ef6b-e6cc7bec07d5"
   },
   "outputs": [
    {
     "data": {
      "text/plain": [
       "(60000, 28, 28)"
      ]
     },
     "execution_count": 4,
     "metadata": {
      "tags": []
     },
     "output_type": "execute_result"
    }
   ],
   "source": [
    "# All images in the dataset are of 28x28 pixels\n",
    "# train_images = these are the images for training these are already vectorized\n",
    "# the values of the pixel ranges from (0 - 255) \n",
    "train_images.shape "
   ]
  },
  {
   "cell_type": "code",
   "execution_count": 5,
   "metadata": {
    "colab": {
     "base_uri": "https://localhost:8080/",
     "height": 34
    },
    "colab_type": "code",
    "executionInfo": {
     "elapsed": 3566,
     "status": "ok",
     "timestamp": 1580747625377,
     "user": {
      "displayName": "Muhammad Hasham",
      "photoUrl": "https://lh3.googleusercontent.com/a-/AAuE7mAFOL-cJQzLxYE5P6-JuWDYqbXQFJ0NzEoSRbg3=s64",
      "userId": "07176052611736937058"
     },
     "user_tz": -300
    },
    "id": "AnOnZ5qey22a",
    "outputId": "800ae942-00f5-456a-970a-5c82588183ab"
   },
   "outputs": [
    {
     "data": {
      "text/plain": [
       "2"
      ]
     },
     "execution_count": 5,
     "metadata": {
      "tags": []
     },
     "output_type": "execute_result"
    }
   ],
   "source": [
    "train_images[0].ndim"
   ]
  },
  {
   "cell_type": "code",
   "execution_count": 6,
   "metadata": {
    "colab": {
     "base_uri": "https://localhost:8080/",
     "height": 34
    },
    "colab_type": "code",
    "executionInfo": {
     "elapsed": 3559,
     "status": "ok",
     "timestamp": 1580747625378,
     "user": {
      "displayName": "Muhammad Hasham",
      "photoUrl": "https://lh3.googleusercontent.com/a-/AAuE7mAFOL-cJQzLxYE5P6-JuWDYqbXQFJ0NzEoSRbg3=s64",
      "userId": "07176052611736937058"
     },
     "user_tz": -300
    },
    "id": "tmX39z_UzsTb",
    "outputId": "0684ccfa-4ea2-421b-e26a-73f591747b57"
   },
   "outputs": [
    {
     "data": {
      "text/plain": [
       "(28, 28)"
      ]
     },
     "execution_count": 6,
     "metadata": {
      "tags": []
     },
     "output_type": "execute_result"
    }
   ],
   "source": [
    "train_images[0].shape"
   ]
  },
  {
   "cell_type": "code",
   "execution_count": 7,
   "metadata": {
    "colab": {
     "base_uri": "https://localhost:8080/",
     "height": 34
    },
    "colab_type": "code",
    "executionInfo": {
     "elapsed": 3551,
     "status": "ok",
     "timestamp": 1580747625380,
     "user": {
      "displayName": "Muhammad Hasham",
      "photoUrl": "https://lh3.googleusercontent.com/a-/AAuE7mAFOL-cJQzLxYE5P6-JuWDYqbXQFJ0NzEoSRbg3=s64",
      "userId": "07176052611736937058"
     },
     "user_tz": -300
    },
    "id": "LJ4FUVFuzz58",
    "outputId": "018c3040-0ccd-4ade-fdf2-10c705798ad7"
   },
   "outputs": [
    {
     "data": {
      "text/plain": [
       "(10000, 28, 28)"
      ]
     },
     "execution_count": 7,
     "metadata": {
      "tags": []
     },
     "output_type": "execute_result"
    }
   ],
   "source": [
    "test_images.shape"
   ]
  },
  {
   "cell_type": "code",
   "execution_count": 8,
   "metadata": {
    "colab": {
     "base_uri": "https://localhost:8080/",
     "height": 34
    },
    "colab_type": "code",
    "executionInfo": {
     "elapsed": 3545,
     "status": "ok",
     "timestamp": 1580747625381,
     "user": {
      "displayName": "Muhammad Hasham",
      "photoUrl": "https://lh3.googleusercontent.com/a-/AAuE7mAFOL-cJQzLxYE5P6-JuWDYqbXQFJ0NzEoSRbg3=s64",
      "userId": "07176052611736937058"
     },
     "user_tz": -300
    },
    "id": "MgZZS9B7z4f4",
    "outputId": "65e850e0-ba28-486a-e01e-ab68da2dc786"
   },
   "outputs": [
    {
     "data": {
      "text/plain": [
       "5"
      ]
     },
     "execution_count": 8,
     "metadata": {
      "tags": []
     },
     "output_type": "execute_result"
    }
   ],
   "source": [
    "train_labels[0]"
   ]
  },
  {
   "cell_type": "markdown",
   "metadata": {
    "colab_type": "text",
    "id": "bHNnev9-0pw-"
   },
   "source": [
    "**The Network Architecture**\n"
   ]
  },
  {
   "cell_type": "markdown",
   "metadata": {
    "colab_type": "text",
    "id": "KEZ0fPsu0wVI"
   },
   "source": [
    "There are two main things in Deep Learning:\n",
    "- Models\n",
    "- Layers\n",
    "\n",
    "The data passes through the layers and the model gets trained.\n",
    "The learning is based on weights(w, b)"
   ]
  },
  {
   "cell_type": "code",
   "execution_count": 0,
   "metadata": {
    "colab": {},
    "colab_type": "code",
    "id": "4msnV5fk0vFX"
   },
   "outputs": [],
   "source": [
    "# importing models and layers\n",
    "from tensorflow.keras import models, layers"
   ]
  },
  {
   "cell_type": "markdown",
   "metadata": {
    "colab_type": "text",
    "id": "ep-SEKok1ZBC"
   },
   "source": [
    "There are two types of models in TF deep learning:\n",
    "- Sequential (Layers are in sequence)\n",
    "- Functional API "
   ]
  },
  {
   "cell_type": "code",
   "execution_count": 0,
   "metadata": {
    "colab": {},
    "colab_type": "code",
    "id": "gHu3CEhn1KNv"
   },
   "outputs": [],
   "source": [
    "network = models.Sequential() \n",
    "# right now we will use sequential model"
   ]
  },
  {
   "cell_type": "markdown",
   "metadata": {
    "colab_type": "text",
    "id": "BiEHVWWJ298L"
   },
   "source": [
    "- Layers.Dense ==> making layers in model / adding layers to model\n",
    "- Dense means fully connected\n",
    "- Fully connected means all nodes of a layer are connected with nodes of previous layer"
   ]
  },
  {
   "cell_type": "code",
   "execution_count": 0,
   "metadata": {
    "colab": {},
    "colab_type": "code",
    "id": "zJ2N802g2Pt6"
   },
   "outputs": [],
   "source": [
    "network.add(layers.Dense(512, activation='relu', input_shape=(28 * 28,)))\n",
    "# 512 is the number of output that will come from this layer\n",
    "# input_shape = (28 * 28,1)\n",
    "network.add(layers.Dense(10, activation='softmax'))"
   ]
  },
  {
   "cell_type": "markdown",
   "metadata": {
    "colab_type": "text",
    "id": "4y2FLEHU-Kt6"
   },
   "source": [
    "##### **Compilation Step :**"
   ]
  },
  {
   "cell_type": "code",
   "execution_count": 0,
   "metadata": {
    "colab": {},
    "colab_type": "code",
    "id": "kpBkjwKh59PV"
   },
   "outputs": [],
   "source": [
    "network.compile(\n",
    "    optimizer='rmsprop',\n",
    "    loss='categorical_crossentropy',\n",
    "    metrics=['accuracy']\n",
    ")"
   ]
  },
  {
   "cell_type": "markdown",
   "metadata": {
    "colab_type": "text",
    "id": "-MVZLfaY__u-"
   },
   "source": [
    "#### **Preparing the image data :**"
   ]
  },
  {
   "cell_type": "code",
   "execution_count": 0,
   "metadata": {
    "colab": {},
    "colab_type": "code",
    "id": "_oPUFNZb-hgy"
   },
   "outputs": [],
   "source": [
    "train_images = train_images.reshape([60000, 28 * 28]) # decreasig the dimension of data for (row x columns) into rows only\n",
    "train_images = train_images.astype('float32') / 255\n",
    "\n",
    "test_images = test_images.reshape([10000, 28 * 28])\n",
    "test_images = test_images.astype('float32') / 255 "
   ]
  },
  {
   "cell_type": "markdown",
   "metadata": {
    "colab_type": "text",
    "id": "5snw8CJvCAqv"
   },
   "source": [
    "#### **Preparing the Labels:**"
   ]
  },
  {
   "cell_type": "code",
   "execution_count": 0,
   "metadata": {
    "colab": {},
    "colab_type": "code",
    "id": "rKWwL1sEAicU"
   },
   "outputs": [],
   "source": [
    "from tensorflow.keras.utils import to_categorical\n",
    "train_labels = to_categorical(train_labels)\n",
    "test_labels = to_categorical(test_labels)"
   ]
  },
  {
   "cell_type": "code",
   "execution_count": 17,
   "metadata": {
    "colab": {
     "base_uri": "https://localhost:8080/",
     "height": 221
    },
    "colab_type": "code",
    "executionInfo": {
     "elapsed": 44977,
     "status": "ok",
     "timestamp": 1580750287578,
     "user": {
      "displayName": "Muhammad Hasham",
      "photoUrl": "https://lh3.googleusercontent.com/a-/AAuE7mAFOL-cJQzLxYE5P6-JuWDYqbXQFJ0NzEoSRbg3=s64",
      "userId": "07176052611736937058"
     },
     "user_tz": -300
    },
    "id": "Gv4Xo04YCwdC",
    "outputId": "09dc4914-5673-462b-c1be-06c7c2ccf4a2"
   },
   "outputs": [
    {
     "name": "stdout",
     "output_type": "stream",
     "text": [
      "Train on 60000 samples\n",
      "Epoch 1/5\n",
      "60000/60000 [==============================] - 9s 148us/sample - loss: 0.2200 - acc: 0.9320\n",
      "Epoch 2/5\n",
      "60000/60000 [==============================] - 9s 150us/sample - loss: 0.0811 - acc: 0.9750\n",
      "Epoch 3/5\n",
      "60000/60000 [==============================] - 8s 140us/sample - loss: 0.0537 - acc: 0.9833\n",
      "Epoch 4/5\n",
      "60000/60000 [==============================] - 9s 144us/sample - loss: 0.0391 - acc: 0.9880\n",
      "Epoch 5/5\n",
      "60000/60000 [==============================] - 9s 144us/sample - loss: 0.0293 - acc: 0.9908\n"
     ]
    },
    {
     "data": {
      "text/plain": [
       "<tensorflow.python.keras.callbacks.History at 0x7ff20ccc3e48>"
      ]
     },
     "execution_count": 17,
     "metadata": {
      "tags": []
     },
     "output_type": "execute_result"
    }
   ],
   "source": [
    "network.fit(train_images, train_labels, epochs=5, batch_size=128)"
   ]
  },
  {
   "cell_type": "code",
   "execution_count": 19,
   "metadata": {
    "colab": {
     "base_uri": "https://localhost:8080/",
     "height": 51
    },
    "colab_type": "code",
    "executionInfo": {
     "elapsed": 2320,
     "status": "ok",
     "timestamp": 1580750603604,
     "user": {
      "displayName": "Muhammad Hasham",
      "photoUrl": "https://lh3.googleusercontent.com/a-/AAuE7mAFOL-cJQzLxYE5P6-JuWDYqbXQFJ0NzEoSRbg3=s64",
      "userId": "07176052611736937058"
     },
     "user_tz": -300
    },
    "id": "hX8dXg8VDoKT",
    "outputId": "73149c9d-362f-4f37-958e-fb069cd62472"
   },
   "outputs": [
    {
     "name": "stdout",
     "output_type": "stream",
     "text": [
      "10000/10000 [==============================] - 1s 98us/sample - loss: 0.1042 - acc: 0.9759\n",
      "testing accuracy : 97.58999943733215\n"
     ]
    }
   ],
   "source": [
    "test_loss, test_acc = network.evaluate(test_images, test_labels)\n",
    "print('testing accuracy :', test_acc*100)"
   ]
  },
  {
   "cell_type": "code",
   "execution_count": 22,
   "metadata": {
    "colab": {
     "base_uri": "https://localhost:8080/",
     "height": 282
    },
    "colab_type": "code",
    "executionInfo": {
     "elapsed": 2175,
     "status": "ok",
     "timestamp": 1580750827943,
     "user": {
      "displayName": "Muhammad Hasham",
      "photoUrl": "https://lh3.googleusercontent.com/a-/AAuE7mAFOL-cJQzLxYE5P6-JuWDYqbXQFJ0NzEoSRbg3=s64",
      "userId": "07176052611736937058"
     },
     "user_tz": -300
    },
    "id": "svG0Vv3kE9Ti",
    "outputId": "34277bc2-f571-43ea-9dfb-f7dcd37ed904"
   },
   "outputs": [
    {
     "name": "stdout",
     "output_type": "stream",
     "text": [
      "[0. 0. 0. 0. 0. 0. 0. 1. 0. 0.]\n"
     ]
    },
    {
     "data": {
      "image/png": "[encoded data removed]",
      "text/plain": [
       "<Figure size 432x288 with 1 Axes>"
      ]
     },
     "metadata": {
      "tags": []
     },
     "output_type": "display_data"
    }
   ],
   "source": [
    "import matplotlib.pyplot as plt\n",
    "plt.plot(network.predict(test_images)[0])\n",
    "print(test_labels[0]) # equals to 7\n",
    "plt.show()"
   ]
  },
  {
   "cell_type": "markdown",
   "metadata": {
    "colab_type": "text",
    "id": "BptcRr_6GroZ"
   },
   "source": [
    "#### **Visualizing the data**"
   ]
  },
  {
   "cell_type": "code",
   "execution_count": 0,
   "metadata": {
    "colab": {},
    "colab_type": "code",
    "id": "lfxIDcGJFeTP"
   },
   "outputs": [],
   "source": [
    "from tensorflow.keras.datasets import mnist\n",
    "(train_images, train_labels), (test_images, test_labels) = mnist.load_data()"
   ]
  },
  {
   "cell_type": "code",
   "execution_count": 32,
   "metadata": {
    "colab": {
     "base_uri": "https://localhost:8080/",
     "height": 265
    },
    "colab_type": "code",
    "executionInfo": {
     "elapsed": 887,
     "status": "ok",
     "timestamp": 1580751582955,
     "user": {
      "displayName": "Muhammad Hasham",
      "photoUrl": "https://lh3.googleusercontent.com/a-/AAuE7mAFOL-cJQzLxYE5P6-JuWDYqbXQFJ0NzEoSRbg3=s64",
      "userId": "07176052611736937058"
     },
     "user_tz": -300
    },
    "id": "4G6En57DGGdi",
    "outputId": "c5063663-2df4-4948-cae1-fd8901d1feac"
   },
   "outputs": [
    {
     "data": {
      "image/png": "[encoded data removed]",
      "text/plain": [
       "<Figure size 432x288 with 1 Axes>"
      ]
     },
     "metadata": {
      "tags": []
     },
     "output_type": "display_data"
    }
   ],
   "source": [
    "digit = train_images[4]\n",
    "plt.imshow(digit, cmap=plt.cm.binary)\n",
    "plt.show()"
   ]
  },
  {
   "cell_type": "code",
   "execution_count": 33,
   "metadata": {
    "colab": {
     "base_uri": "https://localhost:8080/",
     "height": 34
    },
    "colab_type": "code",
    "executionInfo": {
     "elapsed": 797,
     "status": "ok",
     "timestamp": 1580751596235,
     "user": {
      "displayName": "Muhammad Hasham",
      "photoUrl": "https://lh3.googleusercontent.com/a-/AAuE7mAFOL-cJQzLxYE5P6-JuWDYqbXQFJ0NzEoSRbg3=s64",
      "userId": "07176052611736937058"
     },
     "user_tz": -300
    },
    "id": "OIZ6rSA5IvLl",
    "outputId": "6d48f9e5-72d7-4429-da01-2036c61cedfb"
   },
   "outputs": [
    {
     "data": {
      "text/plain": [
       "9"
      ]
     },
     "execution_count": 33,
     "metadata": {
      "tags": []
     },
     "output_type": "execute_result"
    }
   ],
   "source": [
    "train_labels[4]"
   ]
  },
  {
   "cell_type": "code",
   "execution_count": 0,
   "metadata": {
    "colab": {},
    "colab_type": "code",
    "id": "GROysElJIydC"
   },
   "outputs": [],
   "source": []
  }
 ],
 "metadata": {
  "colab": {
   "collapsed_sections": [],
   "name": "Building_blocks_for_NN(mnist).ipynb",
   "provenance": []
  },
  "kernelspec": {
   "display_name": "Python 3",
   "language": "python",
   "name": "python3"
  },
  "language_info": {
   "codemirror_mode": {
    "name": "ipython",
    "version": 3
   },
   "file_extension": ".py",
   "mimetype": "text/x-python",
   "name": "python",
   "nbconvert_exporter": "python",
   "pygments_lexer": "ipython3",
   "version": "3.7.3"
  }
 },
 "nbformat": 4,
 "nbformat_minor": 1
}
